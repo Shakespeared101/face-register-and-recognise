{
 "cells": [
  {
   "cell_type": "code",
   "execution_count": 10,
   "metadata": {},
   "outputs": [],
   "source": [
    "import face_recognition\n",
    "import os\n",
    "import cv2"
   ]
  },
  {
   "cell_type": "code",
   "execution_count": 11,
   "metadata": {},
   "outputs": [],
   "source": [
    "known_faces = []\n",
    "known_names = []\n",
    "\n",
    "# Directory containing images of known faces\n",
    "known_faces_dir = \"known_face\"\n",
    "\n",
    "# Loop through each image file in the known_faces directory\n",
    "for filename in os.listdir(known_faces_dir):\n",
    "    image = face_recognition.load_image_file(os.path.join(known_faces_dir, filename))\n",
    "    encoding = face_recognition.face_encodings(image)[0]  # Assume there's only one face in each image\n",
    "    known_faces.append(encoding)\n",
    "    # Extract the name from the filename (assuming the filename is in the format \"name.jpg\")\n",
    "    known_names.append(os.path.splitext(filename)[0])\n"
   ]
  },
  {
   "cell_type": "code",
   "execution_count": 14,
   "metadata": {},
   "outputs": [],
   "source": [
    "unknown_image = face_recognition.load_image_file(\"family.jpeg\")\n",
    "unknown_face_encoding = face_recognition.face_encodings(unknown_image)[0]"
   ]
  },
  {
   "cell_type": "code",
   "execution_count": 15,
   "metadata": {},
   "outputs": [
    {
     "name": "stdout",
     "output_type": "stream",
     "text": [
      "Unknown face\n"
     ]
    }
   ],
   "source": [
    "for i, known_face_encoding in enumerate(known_faces):\n",
    "    matches = face_recognition.compare_faces([known_face_encoding], unknown_face_encoding)\n",
    "\n",
    "    if matches[0]:\n",
    "        name = known_names[i]\n",
    "        print(\"The unknown face belongs to:\", name)\n",
    "\n",
    "        # Draw a bounding box around the face\n",
    "        face_locations = face_recognition.face_locations(unknown_image)\n",
    "        for top, right, bottom, left in face_locations:\n",
    "            cv2.rectangle(unknown_image, (left, top), (right, bottom), (0, 255, 0), 2)\n",
    "            cv2.putText(unknown_image, name, (left, bottom + 20), cv2.FONT_HERSHEY_DUPLEX, 0.6, (0, 255, 0), 1)\n",
    "\n",
    "        # Display the image with bounding box\n",
    "        cv2.imshow(\"Identified Face\", unknown_image)\n",
    "        cv2.waitKey(0)\n",
    "        cv2.destroyAllWindows()\n",
    "        break\n",
    "else:\n",
    "    print(\"Unknown face\")"
   ]
  }
 ],
 "metadata": {
  "kernelspec": {
   "display_name": "Python 3",
   "language": "python",
   "name": "python3"
  },
  "language_info": {
   "codemirror_mode": {
    "name": "ipython",
    "version": 3
   },
   "file_extension": ".py",
   "mimetype": "text/x-python",
   "name": "python",
   "nbconvert_exporter": "python",
   "pygments_lexer": "ipython3",
   "version": "3.11.5"
  }
 },
 "nbformat": 4,
 "nbformat_minor": 2
}
